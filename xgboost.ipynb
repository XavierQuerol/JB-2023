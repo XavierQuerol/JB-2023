{
 "cells": [
  {
   "cell_type": "code",
   "execution_count": 1,
   "id": "063ff609",
   "metadata": {},
   "outputs": [],
   "source": [
    "import pandas as pd\n",
    "import numpy as np"
   ]
  },
  {
   "cell_type": "code",
   "execution_count": 2,
   "id": "4894851f",
   "metadata": {},
   "outputs": [],
   "source": [
    "df = pd.read_csv(\"supply_chain_train.csv\")"
   ]
  },
  {
   "cell_type": "code",
   "execution_count": 3,
   "id": "a942ca54",
   "metadata": {},
   "outputs": [],
   "source": [
    "X = df.drop(columns=[\"Attrition_Flag\", \"train_idx\"])\n",
    "y = df[\"Attrition_Flag\"]"
   ]
  },
  {
   "cell_type": "code",
   "execution_count": 4,
   "id": "dd2c59af",
   "metadata": {},
   "outputs": [],
   "source": [
    "import category_encoders as ce\n",
    "encoder = ce.OrdinalEncoder(cols=[\"CLIENTNUM\", \"Gender\", \"Education_Level\", \"Marital_Status\", \"Income_Category\", \"Card_Category\"])\n",
    "#encoder = ce.OrdinalEncoder(cols=[\"Gender\", \"Education_Level\", \"Marital_Status\", \"Income_Category\", \"Card_Category\",\"Total_Relationship_Count\", \"Months_Inactive_12_mon\", \"Contacts_Count_12_mon\", \"Dependent_count\"])\n",
    "X_encoded = encoder.fit_transform(X)"
   ]
  },
  {
   "cell_type": "markdown",
   "id": "84810baa",
   "metadata": {},
   "source": [
    "## Searching best model and training"
   ]
  },
  {
   "cell_type": "code",
   "execution_count": 55,
   "id": "846de8f1",
   "metadata": {},
   "outputs": [],
   "source": [
    "scale_pos_weight = (len(y)-sum(y))/sum(y)"
   ]
  },
  {
   "cell_type": "markdown",
   "id": "bbd1e69d",
   "metadata": {},
   "source": [
    "### Xgboost"
   ]
  },
  {
   "cell_type": "code",
   "execution_count": 56,
   "id": "e8d42ed9",
   "metadata": {},
   "outputs": [],
   "source": [
    "import xgboost as xgb\n",
    "from sklearn.model_selection import GridSearchCV\n",
    "\n",
    "def grid_xgboost(X,y):\n",
    "    gsc = GridSearchCV(\n",
    "                estimator=xgb.XGBClassifier(),\n",
    "                param_grid={\"n_estimators\": [1000, 1500],\n",
    "                            \"learning_rate\": [0.15],\n",
    "                            \"max_depth\": [40],\n",
    "                            \"min_child_weight\": [2,4,6],\n",
    "                            \"gamma\":[0.0],\n",
    "                            \"colsample_bytree\":[0.4],\n",
    "                            \"scale_pos_weight\": [scale_pos_weight]},\n",
    "                cv=4, scoring=\"f1\", verbose=0, n_jobs=-1)\n",
    "    gsc.fit(X_encoded,y)\n",
    "    return gsc"
   ]
  },
  {
   "cell_type": "code",
   "execution_count": 57,
   "id": "24beb373",
   "metadata": {},
   "outputs": [],
   "source": [
    "grid_search_xgboost = grid_xgboost(X, y)"
   ]
  },
  {
   "cell_type": "code",
   "execution_count": 58,
   "id": "851915bc",
   "metadata": {},
   "outputs": [
    {
     "data": {
      "text/html": [
       "<div>\n",
       "<style scoped>\n",
       "    .dataframe tbody tr th:only-of-type {\n",
       "        vertical-align: middle;\n",
       "    }\n",
       "\n",
       "    .dataframe tbody tr th {\n",
       "        vertical-align: top;\n",
       "    }\n",
       "\n",
       "    .dataframe thead th {\n",
       "        text-align: right;\n",
       "    }\n",
       "</style>\n",
       "<table border=\"1\" class=\"dataframe\">\n",
       "  <thead>\n",
       "    <tr style=\"text-align: right;\">\n",
       "      <th></th>\n",
       "      <th>mean_fit_time</th>\n",
       "      <th>std_fit_time</th>\n",
       "      <th>mean_score_time</th>\n",
       "      <th>std_score_time</th>\n",
       "      <th>param_colsample_bytree</th>\n",
       "      <th>param_gamma</th>\n",
       "      <th>param_learning_rate</th>\n",
       "      <th>param_max_depth</th>\n",
       "      <th>param_min_child_weight</th>\n",
       "      <th>param_n_estimators</th>\n",
       "      <th>param_scale_pos_weight</th>\n",
       "      <th>params</th>\n",
       "      <th>split0_test_score</th>\n",
       "      <th>split1_test_score</th>\n",
       "      <th>split2_test_score</th>\n",
       "      <th>split3_test_score</th>\n",
       "      <th>mean_test_score</th>\n",
       "      <th>std_test_score</th>\n",
       "      <th>rank_test_score</th>\n",
       "    </tr>\n",
       "  </thead>\n",
       "  <tbody>\n",
       "    <tr>\n",
       "      <th>0</th>\n",
       "      <td>12.135528</td>\n",
       "      <td>0.134555</td>\n",
       "      <td>0.109354</td>\n",
       "      <td>0.011047</td>\n",
       "      <td>0.4</td>\n",
       "      <td>0.0</td>\n",
       "      <td>0.15</td>\n",
       "      <td>40</td>\n",
       "      <td>2</td>\n",
       "      <td>1000</td>\n",
       "      <td>0.191148</td>\n",
       "      <td>{'colsample_bytree': 0.4, 'gamma': 0.0, 'learn...</td>\n",
       "      <td>0.976429</td>\n",
       "      <td>0.986189</td>\n",
       "      <td>0.983781</td>\n",
       "      <td>0.983500</td>\n",
       "      <td>0.982475</td>\n",
       "      <td>0.003644</td>\n",
       "      <td>1</td>\n",
       "    </tr>\n",
       "    <tr>\n",
       "      <th>1</th>\n",
       "      <td>15.320773</td>\n",
       "      <td>0.235419</td>\n",
       "      <td>0.138885</td>\n",
       "      <td>0.007959</td>\n",
       "      <td>0.4</td>\n",
       "      <td>0.0</td>\n",
       "      <td>0.15</td>\n",
       "      <td>40</td>\n",
       "      <td>2</td>\n",
       "      <td>1500</td>\n",
       "      <td>0.191148</td>\n",
       "      <td>{'colsample_bytree': 0.4, 'gamma': 0.0, 'learn...</td>\n",
       "      <td>0.977018</td>\n",
       "      <td>0.985907</td>\n",
       "      <td>0.983491</td>\n",
       "      <td>0.983220</td>\n",
       "      <td>0.982409</td>\n",
       "      <td>0.003284</td>\n",
       "      <td>2</td>\n",
       "    </tr>\n",
       "    <tr>\n",
       "      <th>2</th>\n",
       "      <td>10.146935</td>\n",
       "      <td>0.119927</td>\n",
       "      <td>0.089826</td>\n",
       "      <td>0.006765</td>\n",
       "      <td>0.4</td>\n",
       "      <td>0.0</td>\n",
       "      <td>0.15</td>\n",
       "      <td>40</td>\n",
       "      <td>4</td>\n",
       "      <td>1000</td>\n",
       "      <td>0.191148</td>\n",
       "      <td>{'colsample_bytree': 0.4, 'gamma': 0.0, 'learn...</td>\n",
       "      <td>0.975783</td>\n",
       "      <td>0.984099</td>\n",
       "      <td>0.983761</td>\n",
       "      <td>0.982001</td>\n",
       "      <td>0.981411</td>\n",
       "      <td>0.003346</td>\n",
       "      <td>3</td>\n",
       "    </tr>\n",
       "    <tr>\n",
       "      <th>3</th>\n",
       "      <td>18.475807</td>\n",
       "      <td>0.293201</td>\n",
       "      <td>0.160126</td>\n",
       "      <td>0.006765</td>\n",
       "      <td>0.4</td>\n",
       "      <td>0.0</td>\n",
       "      <td>0.15</td>\n",
       "      <td>40</td>\n",
       "      <td>4</td>\n",
       "      <td>1500</td>\n",
       "      <td>0.191148</td>\n",
       "      <td>{'colsample_bytree': 0.4, 'gamma': 0.0, 'learn...</td>\n",
       "      <td>0.974919</td>\n",
       "      <td>0.983549</td>\n",
       "      <td>0.983171</td>\n",
       "      <td>0.981432</td>\n",
       "      <td>0.980768</td>\n",
       "      <td>0.003470</td>\n",
       "      <td>4</td>\n",
       "    </tr>\n",
       "    <tr>\n",
       "      <th>4</th>\n",
       "      <td>11.940530</td>\n",
       "      <td>0.147943</td>\n",
       "      <td>0.117155</td>\n",
       "      <td>0.025894</td>\n",
       "      <td>0.4</td>\n",
       "      <td>0.0</td>\n",
       "      <td>0.15</td>\n",
       "      <td>40</td>\n",
       "      <td>6</td>\n",
       "      <td>1000</td>\n",
       "      <td>0.191148</td>\n",
       "      <td>{'colsample_bytree': 0.4, 'gamma': 0.0, 'learn...</td>\n",
       "      <td>0.974556</td>\n",
       "      <td>0.983819</td>\n",
       "      <td>0.979290</td>\n",
       "      <td>0.981410</td>\n",
       "      <td>0.979769</td>\n",
       "      <td>0.003409</td>\n",
       "      <td>6</td>\n",
       "    </tr>\n",
       "    <tr>\n",
       "      <th>5</th>\n",
       "      <td>14.906120</td>\n",
       "      <td>0.164993</td>\n",
       "      <td>0.116259</td>\n",
       "      <td>0.008809</td>\n",
       "      <td>0.4</td>\n",
       "      <td>0.0</td>\n",
       "      <td>0.15</td>\n",
       "      <td>40</td>\n",
       "      <td>6</td>\n",
       "      <td>1500</td>\n",
       "      <td>0.191148</td>\n",
       "      <td>{'colsample_bytree': 0.4, 'gamma': 0.0, 'learn...</td>\n",
       "      <td>0.975163</td>\n",
       "      <td>0.983250</td>\n",
       "      <td>0.979568</td>\n",
       "      <td>0.981132</td>\n",
       "      <td>0.979778</td>\n",
       "      <td>0.002968</td>\n",
       "      <td>5</td>\n",
       "    </tr>\n",
       "  </tbody>\n",
       "</table>\n",
       "</div>"
      ],
      "text/plain": [
       "   mean_fit_time  std_fit_time  mean_score_time  std_score_time  \\\n",
       "0      12.135528      0.134555         0.109354        0.011047   \n",
       "1      15.320773      0.235419         0.138885        0.007959   \n",
       "2      10.146935      0.119927         0.089826        0.006765   \n",
       "3      18.475807      0.293201         0.160126        0.006765   \n",
       "4      11.940530      0.147943         0.117155        0.025894   \n",
       "5      14.906120      0.164993         0.116259        0.008809   \n",
       "\n",
       "  param_colsample_bytree param_gamma param_learning_rate param_max_depth  \\\n",
       "0                    0.4         0.0                0.15              40   \n",
       "1                    0.4         0.0                0.15              40   \n",
       "2                    0.4         0.0                0.15              40   \n",
       "3                    0.4         0.0                0.15              40   \n",
       "4                    0.4         0.0                0.15              40   \n",
       "5                    0.4         0.0                0.15              40   \n",
       "\n",
       "  param_min_child_weight param_n_estimators param_scale_pos_weight  \\\n",
       "0                      2               1000               0.191148   \n",
       "1                      2               1500               0.191148   \n",
       "2                      4               1000               0.191148   \n",
       "3                      4               1500               0.191148   \n",
       "4                      6               1000               0.191148   \n",
       "5                      6               1500               0.191148   \n",
       "\n",
       "                                              params  split0_test_score  \\\n",
       "0  {'colsample_bytree': 0.4, 'gamma': 0.0, 'learn...           0.976429   \n",
       "1  {'colsample_bytree': 0.4, 'gamma': 0.0, 'learn...           0.977018   \n",
       "2  {'colsample_bytree': 0.4, 'gamma': 0.0, 'learn...           0.975783   \n",
       "3  {'colsample_bytree': 0.4, 'gamma': 0.0, 'learn...           0.974919   \n",
       "4  {'colsample_bytree': 0.4, 'gamma': 0.0, 'learn...           0.974556   \n",
       "5  {'colsample_bytree': 0.4, 'gamma': 0.0, 'learn...           0.975163   \n",
       "\n",
       "   split1_test_score  split2_test_score  split3_test_score  mean_test_score  \\\n",
       "0           0.986189           0.983781           0.983500         0.982475   \n",
       "1           0.985907           0.983491           0.983220         0.982409   \n",
       "2           0.984099           0.983761           0.982001         0.981411   \n",
       "3           0.983549           0.983171           0.981432         0.980768   \n",
       "4           0.983819           0.979290           0.981410         0.979769   \n",
       "5           0.983250           0.979568           0.981132         0.979778   \n",
       "\n",
       "   std_test_score  rank_test_score  \n",
       "0        0.003644                1  \n",
       "1        0.003284                2  \n",
       "2        0.003346                3  \n",
       "3        0.003470                4  \n",
       "4        0.003409                6  \n",
       "5        0.002968                5  "
      ]
     },
     "execution_count": 58,
     "metadata": {},
     "output_type": "execute_result"
    }
   ],
   "source": [
    "pd.DataFrame(grid_search_xgboost.cv_results_)"
   ]
  },
  {
   "cell_type": "code",
   "execution_count": 63,
   "id": "4bf9b07b",
   "metadata": {},
   "outputs": [
    {
     "data": {
      "text/plain": [
       "{'colsample_bytree': 0.4,\n",
       " 'gamma': 0.0,\n",
       " 'learning_rate': 0.15,\n",
       " 'max_depth': 40,\n",
       " 'min_child_weight': 2,\n",
       " 'n_estimators': 1000}"
      ]
     },
     "execution_count": 63,
     "metadata": {},
     "output_type": "execute_result"
    }
   ],
   "source": [
    "grid_search.best_params_"
   ]
  },
  {
   "cell_type": "markdown",
   "id": "bc65d8e1",
   "metadata": {},
   "source": [
    "### Gradient Boosting"
   ]
  },
  {
   "cell_type": "code",
   "execution_count": 19,
   "id": "9af47e89",
   "metadata": {},
   "outputs": [],
   "source": [
    "from sklearn.ensemble import GradientBoostingClassifier\n",
    "\n",
    "def grid_gradient_boosting(X,y):\n",
    "    gsc = GridSearchCV(\n",
    "                estimator=GradientBoostingClassifier(),\n",
    "                param_grid={\"n_estimators\": [1000, 1500],\n",
    "                            \"learning_rate\": [0.15],\n",
    "                            \"max_depth\": [40],\n",
    "                            \"min_samples_split\": [2,4,6],\n",
    "                            \"min_impurity_decrease\":[0.0, 0.05],\n",
    "                            \"min_samples_leaf\":[2],},\n",
    "                cv=4, scoring=\"f1\", verbose=0, n_jobs=-1)\n",
    "    gsc.fit(X_encoded,y)\n",
    "    return gsc"
   ]
  },
  {
   "cell_type": "code",
   "execution_count": 12,
   "id": "be8a82e8",
   "metadata": {},
   "outputs": [
    {
     "ename": "NameError",
     "evalue": "name 'grid_gradient_boosting' is not defined",
     "output_type": "error",
     "traceback": [
      "\u001b[1;31m---------------------------------------------------------------------------\u001b[0m",
      "\u001b[1;31mNameError\u001b[0m                                 Traceback (most recent call last)",
      "Input \u001b[1;32mIn [12]\u001b[0m, in \u001b[0;36m<cell line: 1>\u001b[1;34m()\u001b[0m\n\u001b[1;32m----> 1\u001b[0m grid_search_gradient_boosting \u001b[38;5;241m=\u001b[39m \u001b[43mgrid_gradient_boosting\u001b[49m(X, y)\n",
      "\u001b[1;31mNameError\u001b[0m: name 'grid_gradient_boosting' is not defined"
     ]
    }
   ],
   "source": [
    "grid_search_gradient_boosting = grid_gradient_boosting(X, y)"
   ]
  },
  {
   "cell_type": "code",
   "execution_count": 11,
   "id": "a3e21fe5",
   "metadata": {},
   "outputs": [
    {
     "ename": "NameError",
     "evalue": "name 'grid_search_gradient_boosting' is not defined",
     "output_type": "error",
     "traceback": [
      "\u001b[1;31m---------------------------------------------------------------------------\u001b[0m",
      "\u001b[1;31mNameError\u001b[0m                                 Traceback (most recent call last)",
      "Input \u001b[1;32mIn [11]\u001b[0m, in \u001b[0;36m<cell line: 1>\u001b[1;34m()\u001b[0m\n\u001b[1;32m----> 1\u001b[0m pd\u001b[38;5;241m.\u001b[39mDataFrame(\u001b[43mgrid_search_gradient_boosting\u001b[49m\u001b[38;5;241m.\u001b[39mcv_results_)\n",
      "\u001b[1;31mNameError\u001b[0m: name 'grid_search_gradient_boosting' is not defined"
     ]
    }
   ],
   "source": [
    "pd.DataFrame(grid_search_gradient_boosting.cv_results_)"
   ]
  },
  {
   "cell_type": "markdown",
   "id": "3982a307",
   "metadata": {},
   "source": [
    "### CatBoost"
   ]
  },
  {
   "cell_type": "code",
   "execution_count": 19,
   "id": "6605c3c0",
   "metadata": {},
   "outputs": [],
   "source": [
    "from sklearn.ensemble import GradientBoostingClassifier\n",
    "\n",
    "def grid_gradient_boosting(X,y):\n",
    "    gsc = GridSearchCV(\n",
    "                estimator=CatBoostClassifier(),\n",
    "                param_grid={\"n_estimators\": [1000, 1500],\n",
    "                            \"learning_rate\": [0.15],\n",
    "                            \"max_depth\": [40],\n",
    "                            \"min_samples_split\": [2,4,6],\n",
    "                            \"min_impurity_decrease\":[0.0, 0.05],\n",
    "                            \"min_samples_leaf\":[2],},\n",
    "                cv=4, scoring=\"f1\", verbose=0, n_jobs=-1)\n",
    "    gsc.fit(X_encoded,y)\n",
    "    return gsc"
   ]
  },
  {
   "cell_type": "code",
   "execution_count": 10,
   "id": "cf6c6b56",
   "metadata": {},
   "outputs": [
    {
     "ename": "NameError",
     "evalue": "name 'grid_gradient_boosting' is not defined",
     "output_type": "error",
     "traceback": [
      "\u001b[1;31m---------------------------------------------------------------------------\u001b[0m",
      "\u001b[1;31mNameError\u001b[0m                                 Traceback (most recent call last)",
      "Input \u001b[1;32mIn [10]\u001b[0m, in \u001b[0;36m<cell line: 1>\u001b[1;34m()\u001b[0m\n\u001b[1;32m----> 1\u001b[0m grid_search_gradient_boosting \u001b[38;5;241m=\u001b[39m \u001b[43mgrid_gradient_boosting\u001b[49m(X, y)\n",
      "\u001b[1;31mNameError\u001b[0m: name 'grid_gradient_boosting' is not defined"
     ]
    }
   ],
   "source": [
    "grid_search_gradient_boosting = grid_gradient_boosting(X, y)"
   ]
  },
  {
   "cell_type": "code",
   "execution_count": 9,
   "id": "334f1551",
   "metadata": {},
   "outputs": [
    {
     "ename": "NameError",
     "evalue": "name 'grid_search_gradient_boosting' is not defined",
     "output_type": "error",
     "traceback": [
      "\u001b[1;31m---------------------------------------------------------------------------\u001b[0m",
      "\u001b[1;31mNameError\u001b[0m                                 Traceback (most recent call last)",
      "Input \u001b[1;32mIn [9]\u001b[0m, in \u001b[0;36m<cell line: 1>\u001b[1;34m()\u001b[0m\n\u001b[1;32m----> 1\u001b[0m \u001b[43mgrid_search_gradient_boosting\u001b[49m\n",
      "\u001b[1;31mNameError\u001b[0m: name 'grid_search_gradient_boosting' is not defined"
     ]
    }
   ],
   "source": [
    "grid_search_gradient_boosting"
   ]
  },
  {
   "cell_type": "code",
   "execution_count": 8,
   "id": "be0417a3",
   "metadata": {},
   "outputs": [
    {
     "ename": "NameError",
     "evalue": "name 'grid_search_gradient_boosting' is not defined",
     "output_type": "error",
     "traceback": [
      "\u001b[1;31m---------------------------------------------------------------------------\u001b[0m",
      "\u001b[1;31mNameError\u001b[0m                                 Traceback (most recent call last)",
      "Input \u001b[1;32mIn [8]\u001b[0m, in \u001b[0;36m<cell line: 1>\u001b[1;34m()\u001b[0m\n\u001b[1;32m----> 1\u001b[0m pd\u001b[38;5;241m.\u001b[39mDataFrame(\u001b[43mgrid_search_gradient_boosting\u001b[49m\u001b[38;5;241m.\u001b[39mcv_results_)\n",
      "\u001b[1;31mNameError\u001b[0m: name 'grid_search_gradient_boosting' is not defined"
     ]
    }
   ],
   "source": [
    "pd.DataFrame(grid_search_gradient_boosting.cv_results_)"
   ]
  },
  {
   "cell_type": "markdown",
   "id": "bd5681d8",
   "metadata": {},
   "source": [
    "### LightGBM"
   ]
  },
  {
   "cell_type": "markdown",
   "id": "52261db8",
   "metadata": {},
   "source": [
    "### TRAIN"
   ]
  },
  {
   "cell_type": "code",
   "execution_count": 64,
   "id": "f4a07028",
   "metadata": {},
   "outputs": [
    {
     "name": "stdout",
     "output_type": "stream",
     "text": [
      "Best Threshold: 0.254 with F-Score: 0.9622\n",
      "Best Threshold: 0.2903 with F-Score: 0.9647\n",
      "Best Threshold: 0.2777 with F-Score: 0.9616\n",
      "Best Threshold: 0.3703 with F-Score: 0.967\n",
      "Best Threshold: 0.3311 with F-Score: 0.9641\n",
      "Best Threshold: 0.2929 with F-Score: 0.9582\n",
      "Best Threshold: 0.4616 with F-Score: 0.9645\n",
      "Best Threshold: 0.3764 with F-Score: 0.9673\n",
      "Best Threshold: 0.3903 with F-Score: 0.9643\n",
      "Best Threshold: 0.1679 with F-Score: 0.9672\n",
      "Final Best Threshold: 0.3212499999999999\n"
     ]
    }
   ],
   "source": [
    "from sklearn.model_selection import train_test_split\n",
    "from sklearn.metrics import f1_score\n",
    "best_th = 0\n",
    "for i in range(10):\n",
    "    \n",
    "    X_train, X_test, y_train, y_test = train_test_split(X_encoded, y, test_size=0.9, random_state=i)\n",
    "    model = xgb.XGBClassifier(**grid_search_xgboost.best_params_)\n",
    "    model.fit(X_train, y_train)\n",
    "    y_pred = model.predict_proba(X_test)[:,1]\n",
    "    # Array for finding the optimal threshold\n",
    "    thresholds = np.arange(0.0, 1.0, 0.0001)\n",
    "    fscore = np.zeros(shape=(len(thresholds)))\n",
    "\n",
    "    # Fit the model\n",
    "    for index, elem in enumerate(thresholds):\n",
    "        # Corrected probabilities\n",
    "        y_pred_prob = (y_pred > elem).astype('int')\n",
    "        # Calculate the f-score\n",
    "        fscore[index] = f1_score(y_test, y_pred_prob)\n",
    "\n",
    "    # Find the optimal threshold\n",
    "    index = np.argmax(fscore)\n",
    "    thresholdOpt = round(thresholds[index], ndigits = 4)\n",
    "    fscoreOpt = round(fscore[index], ndigits = 4)\n",
    "    print('Best Threshold: {} with F-Score: {}'.format(thresholdOpt, fscoreOpt))\n",
    "    best_th += thresholdOpt\n",
    "best_th /= 10 \n",
    "print('Final Best Threshold: {}'.format(best_th))\n"
   ]
  },
  {
   "cell_type": "markdown",
   "id": "cbe74bb0",
   "metadata": {},
   "source": [
    "## Prediction"
   ]
  },
  {
   "cell_type": "code",
   "execution_count": 59,
   "id": "9c3d88aa",
   "metadata": {},
   "outputs": [],
   "source": [
    "df_test = pd.read_csv(\"supply_chain_test.csv\")"
   ]
  },
  {
   "cell_type": "code",
   "execution_count": 60,
   "id": "c0846198",
   "metadata": {},
   "outputs": [],
   "source": [
    "X_test_encoded = encoder.transform(df_test.drop(columns = \"test_idx\"))"
   ]
  },
  {
   "cell_type": "code",
   "execution_count": 70,
   "id": "62510c85",
   "metadata": {},
   "outputs": [],
   "source": [
    "test_predicted = grid_search_xgboost.predict_proba(X_test_encoded)[:,1]"
   ]
  },
  {
   "cell_type": "code",
   "execution_count": 71,
   "id": "9f00efff",
   "metadata": {},
   "outputs": [],
   "source": [
    "test_predicted[test_predicted>0.5] = 1\n",
    "test_predicted[test_predicted<=0.5] = 0"
   ]
  },
  {
   "cell_type": "code",
   "execution_count": 72,
   "id": "8f5d20a1",
   "metadata": {},
   "outputs": [
    {
     "data": {
      "text/plain": [
       "1693.0"
      ]
     },
     "execution_count": 72,
     "metadata": {},
     "output_type": "execute_result"
    }
   ],
   "source": [
    "sum(test_predicted)"
   ]
  },
  {
   "cell_type": "code",
   "execution_count": 73,
   "id": "8a154a48",
   "metadata": {},
   "outputs": [],
   "source": [
    "df_pred = pd.DataFrame(test_predicted, columns = [\"target\"])"
   ]
  },
  {
   "cell_type": "code",
   "execution_count": 74,
   "id": "90f2d3a3",
   "metadata": {},
   "outputs": [],
   "source": [
    "df_pred.to_json(\"predicciones2.json\")\n",
    "\n"
   ]
  },
  {
   "cell_type": "code",
   "execution_count": null,
   "id": "1e82a73c",
   "metadata": {},
   "outputs": [],
   "source": [
    "params_xgboost = {'colsample_bytree': 0.4,\n",
    " 'gamma': 0.0,\n",
    " 'learning_rate': 0.15,\n",
    " 'max_depth': 40,\n",
    " 'min_child_weight': 2,\n",
    " 'n_estimators': 1000}\n",
    "pred = 0.9345550463033891"
   ]
  },
  {
   "cell_type": "code",
   "execution_count": null,
   "id": "b71a386d",
   "metadata": {},
   "outputs": [],
   "source": [
    "params_xgboost = {'colsample_bytree': 0.4,\n",
    " 'gamma': 0.0,\n",
    " 'learning_rate': 0.15,\n",
    " 'max_depth': 40,\n",
    " 'min_child_weight': 2,\n",
    " 'n_estimators': 1500}\n",
    "pred = 0.9291"
   ]
  },
  {
   "cell_type": "code",
   "execution_count": 75,
   "id": "c8bc18ce",
   "metadata": {},
   "outputs": [
    {
     "data": {
      "text/plain": [
       "{'colsample_bytree': 0.4,\n",
       " 'gamma': 0.0,\n",
       " 'learning_rate': 0.15,\n",
       " 'max_depth': 40,\n",
       " 'min_child_weight': 2,\n",
       " 'n_estimators': 1000,\n",
       " 'scale_pos_weight': 0.19114836053521542}"
      ]
     },
     "execution_count": 75,
     "metadata": {},
     "output_type": "execute_result"
    }
   ],
   "source": [
    "params_xgboost = {'colsample_bytree': 0.4,\n",
    " 'gamma': 0.0,\n",
    " 'learning_rate': 0.15,\n",
    " 'max_depth': 40,\n",
    " 'min_child_weight': 2,\n",
    " 'n_estimators': 1000,\n",
    " 'scale_pos_weight': 0.19114836053521542}\n",
    "pred = 0.93303"
   ]
  },
  {
   "cell_type": "code",
   "execution_count": null,
   "id": "9c3760af",
   "metadata": {},
   "outputs": [],
   "source": []
  }
 ],
 "metadata": {
  "kernelspec": {
   "display_name": "Python 3 (ipykernel)",
   "language": "python",
   "name": "python3"
  },
  "language_info": {
   "codemirror_mode": {
    "name": "ipython",
    "version": 3
   },
   "file_extension": ".py",
   "mimetype": "text/x-python",
   "name": "python",
   "nbconvert_exporter": "python",
   "pygments_lexer": "ipython3",
   "version": "3.9.12"
  }
 },
 "nbformat": 4,
 "nbformat_minor": 5
}
