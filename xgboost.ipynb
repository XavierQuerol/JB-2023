{
 "cells": [
  {
   "cell_type": "markdown",
   "id": "72395322",
   "metadata": {},
   "source": [
    "## Imports"
   ]
  },
  {
   "cell_type": "code",
   "execution_count": 11,
   "id": "063ff609",
   "metadata": {},
   "outputs": [],
   "source": [
    "import pandas as pd\n",
    "import numpy as np\n",
    "from best_th_function import best_th_function"
   ]
  },
  {
   "cell_type": "markdown",
   "id": "47cb5b72",
   "metadata": {},
   "source": [
    "## Read data"
   ]
  },
  {
   "cell_type": "code",
   "execution_count": 12,
   "id": "4894851f",
   "metadata": {},
   "outputs": [],
   "source": [
    "df = pd.read_csv(\"supply_chain_train.csv\")\n",
    "df_test = pd.read_csv(\"supply_chain_test.csv\")"
   ]
  },
  {
   "cell_type": "markdown",
   "id": "96ed4688",
   "metadata": {},
   "source": [
    "## Data preprocessing"
   ]
  },
  {
   "cell_type": "code",
   "execution_count": 13,
   "id": "a942ca54",
   "metadata": {},
   "outputs": [],
   "source": [
    "X = df.drop(columns=[\"Attrition_Flag\", \"train_idx\", \"CLIENTNUM\"])\n",
    "y = df[\"Attrition_Flag\"]"
   ]
  },
  {
   "cell_type": "code",
   "execution_count": 14,
   "id": "559e8b92",
   "metadata": {},
   "outputs": [],
   "source": [
    "categorical_columns = [\"Total_Relationship_Count\", \"Months_Inactive_12_mon\", \"Contacts_Count_12_mon\", \"Dependent_count\"]\n",
    "categorical_columns = [\"Gender\", \"Education_Level\", \"Marital_Status\", \"Income_Category\", \"Card_Category\"]\n",
    "\n",
    "X[categorical_columns] = X[categorical_columns].astype(\"category\")"
   ]
  },
  {
   "cell_type": "code",
   "execution_count": 15,
   "id": "1ce34603",
   "metadata": {},
   "outputs": [],
   "source": [
    "df_test = df_test.drop(columns = [\"test_idx\",\"CLIENTNUM\"])"
   ]
  },
  {
   "cell_type": "code",
   "execution_count": 16,
   "id": "69447db6",
   "metadata": {},
   "outputs": [],
   "source": [
    "df_test[categorical_columns] = df_test[categorical_columns].astype(\"category\")"
   ]
  },
  {
   "cell_type": "markdown",
   "id": "84810baa",
   "metadata": {},
   "source": [
    "## Searching best model and training"
   ]
  },
  {
   "cell_type": "markdown",
   "id": "bbd1e69d",
   "metadata": {},
   "source": [
    "### Xgboost balancing data"
   ]
  },
  {
   "cell_type": "code",
   "execution_count": 17,
   "id": "846de8f1",
   "metadata": {},
   "outputs": [],
   "source": [
    "scale_pos_weight = (len(y)-sum(y))/sum(y)"
   ]
  },
  {
   "cell_type": "markdown",
   "id": "d21b2501",
   "metadata": {},
   "source": [
    "I've searched over different params. Now appear the best ones."
   ]
  },
  {
   "cell_type": "code",
   "execution_count": 18,
   "id": "e8d42ed9",
   "metadata": {},
   "outputs": [],
   "source": [
    "import xgboost as xgb\n",
    "from sklearn.model_selection import GridSearchCV\n",
    "\n",
    "def grid_xgboost_bal(X,y):\n",
    "    gsc = GridSearchCV(\n",
    "                estimator=xgb.XGBClassifier(tree_method=\"hist\", enable_categorical=True),\n",
    "                param_grid={\"n_estimators\": [1000],\n",
    "                            \"learning_rate\": [0.15],\n",
    "                            \"max_depth\": [30],\n",
    "                            \"min_child_weight\": [1],\n",
    "                            \"gamma\":[0.01],\n",
    "                            \"colsample_bytree\":[0.3],\n",
    "                            \"scale_pos_weight\": [scale_pos_weight]},\n",
    "                cv=5, scoring=\"f1\", verbose=0, n_jobs=-1)\n",
    "    gsc.fit(X,y)\n",
    "    return gsc"
   ]
  },
  {
   "cell_type": "code",
   "execution_count": 19,
   "id": "24beb373",
   "metadata": {},
   "outputs": [],
   "source": [
    "grid_search_xgboost_bal = grid_xgboost_bal(X, y)"
   ]
  },
  {
   "cell_type": "code",
   "execution_count": 20,
   "id": "851915bc",
   "metadata": {},
   "outputs": [],
   "source": [
    "df_grid_bal = pd.DataFrame(grid_search_xgboost_bal.cv_results_)"
   ]
  },
  {
   "cell_type": "code",
   "execution_count": 21,
   "id": "4d20dd57",
   "metadata": {},
   "outputs": [
    {
     "data": {
      "text/html": [
       "<div>\n",
       "<style scoped>\n",
       "    .dataframe tbody tr th:only-of-type {\n",
       "        vertical-align: middle;\n",
       "    }\n",
       "\n",
       "    .dataframe tbody tr th {\n",
       "        vertical-align: top;\n",
       "    }\n",
       "\n",
       "    .dataframe thead th {\n",
       "        text-align: right;\n",
       "    }\n",
       "</style>\n",
       "<table border=\"1\" class=\"dataframe\">\n",
       "  <thead>\n",
       "    <tr style=\"text-align: right;\">\n",
       "      <th></th>\n",
       "      <th>mean_fit_time</th>\n",
       "      <th>std_fit_time</th>\n",
       "      <th>mean_score_time</th>\n",
       "      <th>std_score_time</th>\n",
       "      <th>param_colsample_bytree</th>\n",
       "      <th>param_gamma</th>\n",
       "      <th>param_learning_rate</th>\n",
       "      <th>param_max_depth</th>\n",
       "      <th>param_min_child_weight</th>\n",
       "      <th>param_n_estimators</th>\n",
       "      <th>param_scale_pos_weight</th>\n",
       "      <th>params</th>\n",
       "      <th>split0_test_score</th>\n",
       "      <th>split1_test_score</th>\n",
       "      <th>split2_test_score</th>\n",
       "      <th>split3_test_score</th>\n",
       "      <th>split4_test_score</th>\n",
       "      <th>mean_test_score</th>\n",
       "      <th>std_test_score</th>\n",
       "      <th>rank_test_score</th>\n",
       "    </tr>\n",
       "  </thead>\n",
       "  <tbody>\n",
       "    <tr>\n",
       "      <th>0</th>\n",
       "      <td>1.317884</td>\n",
       "      <td>0.032027</td>\n",
       "      <td>0.056635</td>\n",
       "      <td>0.006505</td>\n",
       "      <td>0.3</td>\n",
       "      <td>0.15</td>\n",
       "      <td>0.15</td>\n",
       "      <td>30</td>\n",
       "      <td>1</td>\n",
       "      <td>400</td>\n",
       "      <td>0.191148</td>\n",
       "      <td>{'colsample_bytree': 0.3, 'gamma': 0.15, 'lear...</td>\n",
       "      <td>0.942904</td>\n",
       "      <td>0.946252</td>\n",
       "      <td>0.958895</td>\n",
       "      <td>0.960464</td>\n",
       "      <td>0.956745</td>\n",
       "      <td>0.953052</td>\n",
       "      <td>0.007098</td>\n",
       "      <td>1</td>\n",
       "    </tr>\n",
       "  </tbody>\n",
       "</table>\n",
       "</div>"
      ],
      "text/plain": [
       "   mean_fit_time  std_fit_time  mean_score_time  std_score_time  \\\n",
       "0       1.317884      0.032027         0.056635        0.006505   \n",
       "\n",
       "  param_colsample_bytree param_gamma param_learning_rate param_max_depth  \\\n",
       "0                    0.3        0.15                0.15              30   \n",
       "\n",
       "  param_min_child_weight param_n_estimators param_scale_pos_weight  \\\n",
       "0                      1                400               0.191148   \n",
       "\n",
       "                                              params  split0_test_score  \\\n",
       "0  {'colsample_bytree': 0.3, 'gamma': 0.15, 'lear...           0.942904   \n",
       "\n",
       "   split1_test_score  split2_test_score  split3_test_score  split4_test_score  \\\n",
       "0           0.946252           0.958895           0.960464           0.956745   \n",
       "\n",
       "   mean_test_score  std_test_score  rank_test_score  \n",
       "0         0.953052        0.007098                1  "
      ]
     },
     "execution_count": 21,
     "metadata": {},
     "output_type": "execute_result"
    }
   ],
   "source": [
    "df_grid_bal[df_grid_bal[\"rank_test_score\"]==1]"
   ]
  },
  {
   "cell_type": "markdown",
   "id": "b53f9e0d",
   "metadata": {},
   "source": [
    "### Xgboost without balancing data"
   ]
  },
  {
   "cell_type": "markdown",
   "id": "40cd7528",
   "metadata": {},
   "source": [
    "I've searched over different params. Now appear the best ones."
   ]
  },
  {
   "cell_type": "code",
   "execution_count": 45,
   "id": "332a0ba4",
   "metadata": {},
   "outputs": [],
   "source": [
    "import xgboost as xgb\n",
    "from sklearn.model_selection import GridSearchCV\n",
    "\n",
    "def grid_xgboost(X,y):\n",
    "    gsc = GridSearchCV(\n",
    "                estimator=xgb.XGBClassifier(tree_method=\"hist\", enable_categorical=True),\n",
    "                param_grid={\"n_estimators\": [1000],\n",
    "                            \"learning_rate\": [0.15],\n",
    "                            \"max_depth\": [30],\n",
    "                            \"min_child_weight\": [1],\n",
    "                            \"gamma\":[0.3],\n",
    "                            \"colsample_bytree\":[0.5]},\n",
    "                cv=5, scoring=\"f1\", verbose=0, n_jobs=-1)\n",
    "    gsc.fit(X,y)\n",
    "    return gsc"
   ]
  },
  {
   "cell_type": "code",
   "execution_count": 46,
   "id": "aa73a5d5",
   "metadata": {},
   "outputs": [],
   "source": [
    "grid_search_xgboost = grid_xgboost(X, y)"
   ]
  },
  {
   "cell_type": "code",
   "execution_count": 47,
   "id": "0144e467",
   "metadata": {},
   "outputs": [
    {
     "data": {
      "text/html": [
       "<div>\n",
       "<style scoped>\n",
       "    .dataframe tbody tr th:only-of-type {\n",
       "        vertical-align: middle;\n",
       "    }\n",
       "\n",
       "    .dataframe tbody tr th {\n",
       "        vertical-align: top;\n",
       "    }\n",
       "\n",
       "    .dataframe thead th {\n",
       "        text-align: right;\n",
       "    }\n",
       "</style>\n",
       "<table border=\"1\" class=\"dataframe\">\n",
       "  <thead>\n",
       "    <tr style=\"text-align: right;\">\n",
       "      <th></th>\n",
       "      <th>mean_fit_time</th>\n",
       "      <th>std_fit_time</th>\n",
       "      <th>mean_score_time</th>\n",
       "      <th>std_score_time</th>\n",
       "      <th>param_colsample_bytree</th>\n",
       "      <th>param_gamma</th>\n",
       "      <th>param_learning_rate</th>\n",
       "      <th>param_max_depth</th>\n",
       "      <th>param_min_child_weight</th>\n",
       "      <th>param_n_estimators</th>\n",
       "      <th>params</th>\n",
       "      <th>split0_test_score</th>\n",
       "      <th>split1_test_score</th>\n",
       "      <th>split2_test_score</th>\n",
       "      <th>split3_test_score</th>\n",
       "      <th>split4_test_score</th>\n",
       "      <th>mean_test_score</th>\n",
       "      <th>std_test_score</th>\n",
       "      <th>rank_test_score</th>\n",
       "    </tr>\n",
       "  </thead>\n",
       "  <tbody>\n",
       "    <tr>\n",
       "      <th>0</th>\n",
       "      <td>1.480914</td>\n",
       "      <td>0.095863</td>\n",
       "      <td>0.025595</td>\n",
       "      <td>0.004319</td>\n",
       "      <td>0.5</td>\n",
       "      <td>0.3</td>\n",
       "      <td>0.15</td>\n",
       "      <td>30</td>\n",
       "      <td>1</td>\n",
       "      <td>1000</td>\n",
       "      <td>{'colsample_bytree': 0.5, 'gamma': 0.3, 'learn...</td>\n",
       "      <td>0.939114</td>\n",
       "      <td>0.941772</td>\n",
       "      <td>0.947628</td>\n",
       "      <td>0.954403</td>\n",
       "      <td>0.94907</td>\n",
       "      <td>0.946397</td>\n",
       "      <td>0.005426</td>\n",
       "      <td>1</td>\n",
       "    </tr>\n",
       "  </tbody>\n",
       "</table>\n",
       "</div>"
      ],
      "text/plain": [
       "   mean_fit_time  std_fit_time  mean_score_time  std_score_time  \\\n",
       "0       1.480914      0.095863         0.025595        0.004319   \n",
       "\n",
       "  param_colsample_bytree param_gamma param_learning_rate param_max_depth  \\\n",
       "0                    0.5         0.3                0.15              30   \n",
       "\n",
       "  param_min_child_weight param_n_estimators  \\\n",
       "0                      1               1000   \n",
       "\n",
       "                                              params  split0_test_score  \\\n",
       "0  {'colsample_bytree': 0.5, 'gamma': 0.3, 'learn...           0.939114   \n",
       "\n",
       "   split1_test_score  split2_test_score  split3_test_score  split4_test_score  \\\n",
       "0           0.941772           0.947628           0.954403            0.94907   \n",
       "\n",
       "   mean_test_score  std_test_score  rank_test_score  \n",
       "0         0.946397        0.005426                1  "
      ]
     },
     "execution_count": 47,
     "metadata": {},
     "output_type": "execute_result"
    }
   ],
   "source": [
    "df_grid = pd.DataFrame(grid_search_xgboost.cv_results_)\n",
    "df_grid[df_grid[\"rank_test_score\"]==1]"
   ]
  },
  {
   "cell_type": "markdown",
   "id": "cbe74bb0",
   "metadata": {},
   "source": [
    "## Predictions"
   ]
  },
  {
   "cell_type": "markdown",
   "id": "50097ba8",
   "metadata": {},
   "source": [
    "### PREDICT BALANCED"
   ]
  },
  {
   "cell_type": "code",
   "execution_count": 25,
   "id": "e50ce8ef",
   "metadata": {
    "scrolled": true
   },
   "outputs": [
    {
     "data": {
      "text/html": [
       "<style>#sk-container-id-1 {color: black;background-color: white;}#sk-container-id-1 pre{padding: 0;}#sk-container-id-1 div.sk-toggleable {background-color: white;}#sk-container-id-1 label.sk-toggleable__label {cursor: pointer;display: block;width: 100%;margin-bottom: 0;padding: 0.3em;box-sizing: border-box;text-align: center;}#sk-container-id-1 label.sk-toggleable__label-arrow:before {content: \"▸\";float: left;margin-right: 0.25em;color: #696969;}#sk-container-id-1 label.sk-toggleable__label-arrow:hover:before {color: black;}#sk-container-id-1 div.sk-estimator:hover label.sk-toggleable__label-arrow:before {color: black;}#sk-container-id-1 div.sk-toggleable__content {max-height: 0;max-width: 0;overflow: hidden;text-align: left;background-color: #f0f8ff;}#sk-container-id-1 div.sk-toggleable__content pre {margin: 0.2em;color: black;border-radius: 0.25em;background-color: #f0f8ff;}#sk-container-id-1 input.sk-toggleable__control:checked~div.sk-toggleable__content {max-height: 200px;max-width: 100%;overflow: auto;}#sk-container-id-1 input.sk-toggleable__control:checked~label.sk-toggleable__label-arrow:before {content: \"▾\";}#sk-container-id-1 div.sk-estimator input.sk-toggleable__control:checked~label.sk-toggleable__label {background-color: #d4ebff;}#sk-container-id-1 div.sk-label input.sk-toggleable__control:checked~label.sk-toggleable__label {background-color: #d4ebff;}#sk-container-id-1 input.sk-hidden--visually {border: 0;clip: rect(1px 1px 1px 1px);clip: rect(1px, 1px, 1px, 1px);height: 1px;margin: -1px;overflow: hidden;padding: 0;position: absolute;width: 1px;}#sk-container-id-1 div.sk-estimator {font-family: monospace;background-color: #f0f8ff;border: 1px dotted black;border-radius: 0.25em;box-sizing: border-box;margin-bottom: 0.5em;}#sk-container-id-1 div.sk-estimator:hover {background-color: #d4ebff;}#sk-container-id-1 div.sk-parallel-item::after {content: \"\";width: 100%;border-bottom: 1px solid gray;flex-grow: 1;}#sk-container-id-1 div.sk-label:hover label.sk-toggleable__label {background-color: #d4ebff;}#sk-container-id-1 div.sk-serial::before {content: \"\";position: absolute;border-left: 1px solid gray;box-sizing: border-box;top: 0;bottom: 0;left: 50%;z-index: 0;}#sk-container-id-1 div.sk-serial {display: flex;flex-direction: column;align-items: center;background-color: white;padding-right: 0.2em;padding-left: 0.2em;position: relative;}#sk-container-id-1 div.sk-item {position: relative;z-index: 1;}#sk-container-id-1 div.sk-parallel {display: flex;align-items: stretch;justify-content: center;background-color: white;position: relative;}#sk-container-id-1 div.sk-item::before, #sk-container-id-1 div.sk-parallel-item::before {content: \"\";position: absolute;border-left: 1px solid gray;box-sizing: border-box;top: 0;bottom: 0;left: 50%;z-index: -1;}#sk-container-id-1 div.sk-parallel-item {display: flex;flex-direction: column;z-index: 1;position: relative;background-color: white;}#sk-container-id-1 div.sk-parallel-item:first-child::after {align-self: flex-end;width: 50%;}#sk-container-id-1 div.sk-parallel-item:last-child::after {align-self: flex-start;width: 50%;}#sk-container-id-1 div.sk-parallel-item:only-child::after {width: 0;}#sk-container-id-1 div.sk-dashed-wrapped {border: 1px dashed gray;margin: 0 0.4em 0.5em 0.4em;box-sizing: border-box;padding-bottom: 0.4em;background-color: white;}#sk-container-id-1 div.sk-label label {font-family: monospace;font-weight: bold;display: inline-block;line-height: 1.2em;}#sk-container-id-1 div.sk-label-container {text-align: center;}#sk-container-id-1 div.sk-container {/* jupyter's `normalize.less` sets `[hidden] { display: none; }` but bootstrap.min.css set `[hidden] { display: none !important; }` so we also need the `!important` here to be able to override the default hidden behavior on the sphinx rendered scikit-learn.org. See: https://github.com/scikit-learn/scikit-learn/issues/21755 */display: inline-block !important;position: relative;}#sk-container-id-1 div.sk-text-repr-fallback {display: none;}</style><div id=\"sk-container-id-1\" class=\"sk-top-container\"><div class=\"sk-text-repr-fallback\"><pre>XGBClassifier(base_score=None, booster=None, callbacks=None,\n",
       "              colsample_bylevel=None, colsample_bynode=None,\n",
       "              colsample_bytree=0.3, early_stopping_rounds=None,\n",
       "              enable_categorical=True, eval_metric=None, feature_types=None,\n",
       "              gamma=0.15, gpu_id=None, grow_policy=None, importance_type=None,\n",
       "              interaction_constraints=None, learning_rate=0.15, max_bin=None,\n",
       "              max_cat_threshold=None, max_cat_to_onehot=None,\n",
       "              max_delta_step=None, max_depth=30, max_leaves=None,\n",
       "              min_child_weight=1, missing=nan, monotone_constraints=None,\n",
       "              n_estimators=400, n_jobs=None, num_parallel_tree=None,\n",
       "              predictor=None, random_state=None, ...)</pre><b>In a Jupyter environment, please rerun this cell to show the HTML representation or trust the notebook. <br />On GitHub, the HTML representation is unable to render, please try loading this page with nbviewer.org.</b></div><div class=\"sk-container\" hidden><div class=\"sk-item\"><div class=\"sk-estimator sk-toggleable\"><input class=\"sk-toggleable__control sk-hidden--visually\" id=\"sk-estimator-id-1\" type=\"checkbox\" checked><label for=\"sk-estimator-id-1\" class=\"sk-toggleable__label sk-toggleable__label-arrow\">XGBClassifier</label><div class=\"sk-toggleable__content\"><pre>XGBClassifier(base_score=None, booster=None, callbacks=None,\n",
       "              colsample_bylevel=None, colsample_bynode=None,\n",
       "              colsample_bytree=0.3, early_stopping_rounds=None,\n",
       "              enable_categorical=True, eval_metric=None, feature_types=None,\n",
       "              gamma=0.15, gpu_id=None, grow_policy=None, importance_type=None,\n",
       "              interaction_constraints=None, learning_rate=0.15, max_bin=None,\n",
       "              max_cat_threshold=None, max_cat_to_onehot=None,\n",
       "              max_delta_step=None, max_depth=30, max_leaves=None,\n",
       "              min_child_weight=1, missing=nan, monotone_constraints=None,\n",
       "              n_estimators=400, n_jobs=None, num_parallel_tree=None,\n",
       "              predictor=None, random_state=None, ...)</pre></div></div></div></div></div>"
      ],
      "text/plain": [
       "XGBClassifier(base_score=None, booster=None, callbacks=None,\n",
       "              colsample_bylevel=None, colsample_bynode=None,\n",
       "              colsample_bytree=0.3, early_stopping_rounds=None,\n",
       "              enable_categorical=True, eval_metric=None, feature_types=None,\n",
       "              gamma=0.15, gpu_id=None, grow_policy=None, importance_type=None,\n",
       "              interaction_constraints=None, learning_rate=0.15, max_bin=None,\n",
       "              max_cat_threshold=None, max_cat_to_onehot=None,\n",
       "              max_delta_step=None, max_depth=30, max_leaves=None,\n",
       "              min_child_weight=1, missing=nan, monotone_constraints=None,\n",
       "              n_estimators=400, n_jobs=None, num_parallel_tree=None,\n",
       "              predictor=None, random_state=None, ...)"
      ]
     },
     "execution_count": 25,
     "metadata": {},
     "output_type": "execute_result"
    }
   ],
   "source": [
    "model = xgb.XGBClassifier(tree_method=\"hist\", enable_categorical=True, **grid_search_xgboost_bal.best_params_)\n",
    "model.fit(X, y)"
   ]
  },
  {
   "cell_type": "markdown",
   "id": "27b12f0a",
   "metadata": {},
   "source": [
    "#### Predict with best_th"
   ]
  },
  {
   "cell_type": "code",
   "execution_count": 26,
   "id": "f4a07028",
   "metadata": {},
   "outputs": [
    {
     "name": "stdout",
     "output_type": "stream",
     "text": [
      "Best Threshold: 0.4528 with F-Score: 0.9322\n",
      "Best Threshold: 0.442 with F-Score: 0.9327\n",
      "Best Threshold: 0.4754 with F-Score: 0.9297\n",
      "Best Threshold: 0.5731 with F-Score: 0.9268\n",
      "Best Threshold: 0.4276 with F-Score: 0.9394\n",
      "Best Threshold: 0.5882 with F-Score: 0.9267\n",
      "Best Threshold: 0.4463 with F-Score: 0.9347\n",
      "Best Threshold: 0.3703 with F-Score: 0.9349\n",
      "Best Threshold: 0.3106 with F-Score: 0.9202\n",
      "Best Threshold: 0.3598 with F-Score: 0.928\n",
      "Final Best Threshold: 0.44460999999999995\n"
     ]
    }
   ],
   "source": [
    "best_th = best_th_function(X,y,grid_search_xgboost_bal.best_params_)\n",
    "print('Final Best Threshold: {}'.format(best_th))"
   ]
  },
  {
   "cell_type": "code",
   "execution_count": 27,
   "id": "0552d07f",
   "metadata": {},
   "outputs": [],
   "source": [
    "test_predicted = model.predict_proba(df_test)[:,1]"
   ]
  },
  {
   "cell_type": "code",
   "execution_count": 28,
   "id": "1a6fe137",
   "metadata": {},
   "outputs": [],
   "source": [
    "test_predicted[test_predicted>best_th] = 1\n",
    "test_predicted[test_predicted<=best_th] = 0"
   ]
  },
  {
   "cell_type": "code",
   "execution_count": 29,
   "id": "467ab029",
   "metadata": {},
   "outputs": [],
   "source": [
    "df_pred = pd.DataFrame(test_predicted, columns = [\"target\"])"
   ]
  },
  {
   "cell_type": "code",
   "execution_count": 30,
   "id": "51f9124e",
   "metadata": {},
   "outputs": [],
   "source": [
    "df_pred.to_json(\"predicciones_b_best.json\")"
   ]
  },
  {
   "cell_type": "markdown",
   "id": "a5c714b4",
   "metadata": {},
   "source": [
    "#### Predict th 0.5"
   ]
  },
  {
   "cell_type": "code",
   "execution_count": 31,
   "id": "f5a53b19",
   "metadata": {},
   "outputs": [],
   "source": [
    "test_predicted = model.predict_proba(df_test)[:,1]"
   ]
  },
  {
   "cell_type": "code",
   "execution_count": 32,
   "id": "17c8fabc",
   "metadata": {},
   "outputs": [],
   "source": [
    "test_predicted[test_predicted>0.5] = 1\n",
    "test_predicted[test_predicted<=0.5] = 0"
   ]
  },
  {
   "cell_type": "code",
   "execution_count": 33,
   "id": "f33f6187",
   "metadata": {},
   "outputs": [],
   "source": [
    "df_pred = pd.DataFrame(test_predicted, columns = [\"target\"])"
   ]
  },
  {
   "cell_type": "code",
   "execution_count": 34,
   "id": "9ddb5876",
   "metadata": {},
   "outputs": [],
   "source": [
    "df_pred.to_json(\"predicciones_b_05.json\")"
   ]
  },
  {
   "cell_type": "markdown",
   "id": "4afcaf65",
   "metadata": {},
   "source": [
    "### PREDICT UNBALANCED"
   ]
  },
  {
   "cell_type": "code",
   "execution_count": 35,
   "id": "a8873f54",
   "metadata": {
    "scrolled": true
   },
   "outputs": [
    {
     "data": {
      "text/html": [
       "<style>#sk-container-id-2 {color: black;background-color: white;}#sk-container-id-2 pre{padding: 0;}#sk-container-id-2 div.sk-toggleable {background-color: white;}#sk-container-id-2 label.sk-toggleable__label {cursor: pointer;display: block;width: 100%;margin-bottom: 0;padding: 0.3em;box-sizing: border-box;text-align: center;}#sk-container-id-2 label.sk-toggleable__label-arrow:before {content: \"▸\";float: left;margin-right: 0.25em;color: #696969;}#sk-container-id-2 label.sk-toggleable__label-arrow:hover:before {color: black;}#sk-container-id-2 div.sk-estimator:hover label.sk-toggleable__label-arrow:before {color: black;}#sk-container-id-2 div.sk-toggleable__content {max-height: 0;max-width: 0;overflow: hidden;text-align: left;background-color: #f0f8ff;}#sk-container-id-2 div.sk-toggleable__content pre {margin: 0.2em;color: black;border-radius: 0.25em;background-color: #f0f8ff;}#sk-container-id-2 input.sk-toggleable__control:checked~div.sk-toggleable__content {max-height: 200px;max-width: 100%;overflow: auto;}#sk-container-id-2 input.sk-toggleable__control:checked~label.sk-toggleable__label-arrow:before {content: \"▾\";}#sk-container-id-2 div.sk-estimator input.sk-toggleable__control:checked~label.sk-toggleable__label {background-color: #d4ebff;}#sk-container-id-2 div.sk-label input.sk-toggleable__control:checked~label.sk-toggleable__label {background-color: #d4ebff;}#sk-container-id-2 input.sk-hidden--visually {border: 0;clip: rect(1px 1px 1px 1px);clip: rect(1px, 1px, 1px, 1px);height: 1px;margin: -1px;overflow: hidden;padding: 0;position: absolute;width: 1px;}#sk-container-id-2 div.sk-estimator {font-family: monospace;background-color: #f0f8ff;border: 1px dotted black;border-radius: 0.25em;box-sizing: border-box;margin-bottom: 0.5em;}#sk-container-id-2 div.sk-estimator:hover {background-color: #d4ebff;}#sk-container-id-2 div.sk-parallel-item::after {content: \"\";width: 100%;border-bottom: 1px solid gray;flex-grow: 1;}#sk-container-id-2 div.sk-label:hover label.sk-toggleable__label {background-color: #d4ebff;}#sk-container-id-2 div.sk-serial::before {content: \"\";position: absolute;border-left: 1px solid gray;box-sizing: border-box;top: 0;bottom: 0;left: 50%;z-index: 0;}#sk-container-id-2 div.sk-serial {display: flex;flex-direction: column;align-items: center;background-color: white;padding-right: 0.2em;padding-left: 0.2em;position: relative;}#sk-container-id-2 div.sk-item {position: relative;z-index: 1;}#sk-container-id-2 div.sk-parallel {display: flex;align-items: stretch;justify-content: center;background-color: white;position: relative;}#sk-container-id-2 div.sk-item::before, #sk-container-id-2 div.sk-parallel-item::before {content: \"\";position: absolute;border-left: 1px solid gray;box-sizing: border-box;top: 0;bottom: 0;left: 50%;z-index: -1;}#sk-container-id-2 div.sk-parallel-item {display: flex;flex-direction: column;z-index: 1;position: relative;background-color: white;}#sk-container-id-2 div.sk-parallel-item:first-child::after {align-self: flex-end;width: 50%;}#sk-container-id-2 div.sk-parallel-item:last-child::after {align-self: flex-start;width: 50%;}#sk-container-id-2 div.sk-parallel-item:only-child::after {width: 0;}#sk-container-id-2 div.sk-dashed-wrapped {border: 1px dashed gray;margin: 0 0.4em 0.5em 0.4em;box-sizing: border-box;padding-bottom: 0.4em;background-color: white;}#sk-container-id-2 div.sk-label label {font-family: monospace;font-weight: bold;display: inline-block;line-height: 1.2em;}#sk-container-id-2 div.sk-label-container {text-align: center;}#sk-container-id-2 div.sk-container {/* jupyter's `normalize.less` sets `[hidden] { display: none; }` but bootstrap.min.css set `[hidden] { display: none !important; }` so we also need the `!important` here to be able to override the default hidden behavior on the sphinx rendered scikit-learn.org. See: https://github.com/scikit-learn/scikit-learn/issues/21755 */display: inline-block !important;position: relative;}#sk-container-id-2 div.sk-text-repr-fallback {display: none;}</style><div id=\"sk-container-id-2\" class=\"sk-top-container\"><div class=\"sk-text-repr-fallback\"><pre>XGBClassifier(base_score=None, booster=None, callbacks=None,\n",
       "              colsample_bylevel=None, colsample_bynode=None,\n",
       "              colsample_bytree=0.7, early_stopping_rounds=None,\n",
       "              enable_categorical=True, eval_metric=None, feature_types=None,\n",
       "              gamma=0.2, gpu_id=None, grow_policy=None, importance_type=None,\n",
       "              interaction_constraints=None, learning_rate=0.15, max_bin=None,\n",
       "              max_cat_threshold=None, max_cat_to_onehot=None,\n",
       "              max_delta_step=None, max_depth=20, max_leaves=None,\n",
       "              min_child_weight=3, missing=nan, monotone_constraints=None,\n",
       "              n_estimators=200, n_jobs=None, num_parallel_tree=None,\n",
       "              predictor=None, random_state=None, ...)</pre><b>In a Jupyter environment, please rerun this cell to show the HTML representation or trust the notebook. <br />On GitHub, the HTML representation is unable to render, please try loading this page with nbviewer.org.</b></div><div class=\"sk-container\" hidden><div class=\"sk-item\"><div class=\"sk-estimator sk-toggleable\"><input class=\"sk-toggleable__control sk-hidden--visually\" id=\"sk-estimator-id-2\" type=\"checkbox\" checked><label for=\"sk-estimator-id-2\" class=\"sk-toggleable__label sk-toggleable__label-arrow\">XGBClassifier</label><div class=\"sk-toggleable__content\"><pre>XGBClassifier(base_score=None, booster=None, callbacks=None,\n",
       "              colsample_bylevel=None, colsample_bynode=None,\n",
       "              colsample_bytree=0.7, early_stopping_rounds=None,\n",
       "              enable_categorical=True, eval_metric=None, feature_types=None,\n",
       "              gamma=0.2, gpu_id=None, grow_policy=None, importance_type=None,\n",
       "              interaction_constraints=None, learning_rate=0.15, max_bin=None,\n",
       "              max_cat_threshold=None, max_cat_to_onehot=None,\n",
       "              max_delta_step=None, max_depth=20, max_leaves=None,\n",
       "              min_child_weight=3, missing=nan, monotone_constraints=None,\n",
       "              n_estimators=200, n_jobs=None, num_parallel_tree=None,\n",
       "              predictor=None, random_state=None, ...)</pre></div></div></div></div></div>"
      ],
      "text/plain": [
       "XGBClassifier(base_score=None, booster=None, callbacks=None,\n",
       "              colsample_bylevel=None, colsample_bynode=None,\n",
       "              colsample_bytree=0.7, early_stopping_rounds=None,\n",
       "              enable_categorical=True, eval_metric=None, feature_types=None,\n",
       "              gamma=0.2, gpu_id=None, grow_policy=None, importance_type=None,\n",
       "              interaction_constraints=None, learning_rate=0.15, max_bin=None,\n",
       "              max_cat_threshold=None, max_cat_to_onehot=None,\n",
       "              max_delta_step=None, max_depth=20, max_leaves=None,\n",
       "              min_child_weight=3, missing=nan, monotone_constraints=None,\n",
       "              n_estimators=200, n_jobs=None, num_parallel_tree=None,\n",
       "              predictor=None, random_state=None, ...)"
      ]
     },
     "execution_count": 35,
     "metadata": {},
     "output_type": "execute_result"
    }
   ],
   "source": [
    "model = xgb.XGBClassifier(tree_method=\"hist\", enable_categorical=True, **grid_search_xgboost.best_params_)\n",
    "model.fit(X, y)"
   ]
  },
  {
   "cell_type": "markdown",
   "id": "8a1f0c5b",
   "metadata": {},
   "source": [
    "#### Predict with best_th - MODEL CHOSEN"
   ]
  },
  {
   "cell_type": "code",
   "execution_count": 48,
   "id": "5b795cd7",
   "metadata": {},
   "outputs": [
    {
     "name": "stdout",
     "output_type": "stream",
     "text": [
      "Best Threshold: 0.7148 with F-Score: 0.9333\n",
      "Best Threshold: 0.7091 with F-Score: 0.931\n",
      "Best Threshold: 0.7632 with F-Score: 0.9284\n",
      "Best Threshold: 0.6818 with F-Score: 0.9294\n",
      "Best Threshold: 0.6066 with F-Score: 0.9443\n",
      "Best Threshold: 0.7075 with F-Score: 0.934\n",
      "Best Threshold: 0.6974 with F-Score: 0.9386\n",
      "Best Threshold: 0.7021 with F-Score: 0.9386\n",
      "Best Threshold: 0.5832 with F-Score: 0.9224\n",
      "Best Threshold: 0.6798 with F-Score: 0.9308\n",
      "Final Best Threshold: 0.68455\n"
     ]
    }
   ],
   "source": [
    "best_th = best_th_function(X,y,grid_search_xgboost.best_params_)\n",
    "print('Final Best Threshold: {}'.format(best_th))"
   ]
  },
  {
   "cell_type": "code",
   "execution_count": 53,
   "id": "62510c85",
   "metadata": {},
   "outputs": [],
   "source": [
    "test_predicted = model.predict_proba(df_test)[:,1]"
   ]
  },
  {
   "cell_type": "code",
   "execution_count": 54,
   "id": "9f00efff",
   "metadata": {},
   "outputs": [],
   "source": [
    "test_predicted[test_predicted>best_th] = 1\n",
    "test_predicted[test_predicted<=best_th] = 0"
   ]
  },
  {
   "cell_type": "code",
   "execution_count": 55,
   "id": "8a154a48",
   "metadata": {},
   "outputs": [],
   "source": [
    "df_pred = pd.DataFrame(test_predicted, columns = [\"target\"])"
   ]
  },
  {
   "cell_type": "code",
   "execution_count": 56,
   "id": "90f2d3a3",
   "metadata": {},
   "outputs": [],
   "source": [
    "df_pred.to_json(\"predicciones_u_best.json\")"
   ]
  },
  {
   "cell_type": "markdown",
   "id": "8d9cc4e2",
   "metadata": {},
   "source": [
    "#### Predict th 0.5"
   ]
  },
  {
   "cell_type": "code",
   "execution_count": 41,
   "id": "23841425",
   "metadata": {},
   "outputs": [],
   "source": [
    "test_predicted = model.predict_proba(df_test)[:,1]"
   ]
  },
  {
   "cell_type": "code",
   "execution_count": 42,
   "id": "3b10a7bb",
   "metadata": {},
   "outputs": [],
   "source": [
    "test_predicted[test_predicted>0.5] = 1\n",
    "test_predicted[test_predicted<=0.5] = 0"
   ]
  },
  {
   "cell_type": "code",
   "execution_count": 43,
   "id": "e3256115",
   "metadata": {},
   "outputs": [],
   "source": [
    "df_pred = pd.DataFrame(test_predicted, columns = [\"target\"])"
   ]
  },
  {
   "cell_type": "code",
   "execution_count": 44,
   "id": "72753a36",
   "metadata": {},
   "outputs": [],
   "source": [
    "df_pred.to_json(\"predicciones_u_05.json\")"
   ]
  }
 ],
 "metadata": {
  "kernelspec": {
   "display_name": "Python 3 (ipykernel)",
   "language": "python",
   "name": "python3"
  },
  "language_info": {
   "codemirror_mode": {
    "name": "ipython",
    "version": 3
   },
   "file_extension": ".py",
   "mimetype": "text/x-python",
   "name": "python",
   "nbconvert_exporter": "python",
   "pygments_lexer": "ipython3",
   "version": "3.8.12"
  }
 },
 "nbformat": 4,
 "nbformat_minor": 5
}
