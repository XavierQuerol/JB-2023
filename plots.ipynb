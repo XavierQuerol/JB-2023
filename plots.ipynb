{
 "cells": [
  {
   "cell_type": "code",
   "execution_count": null,
   "id": "81950631",
   "metadata": {},
   "outputs": [],
   "source": [
    "from sklearn.metrics import precision_recall_curve\n",
    "from plotnine import *\n",
    "import plotnine\n",
    "\n",
    "y_pred = model.predict_proba(X_test)[:,1]\n",
    "# Create the Precision-Recall curve\n",
    "precision, recall, thresholds = precision_recall_curve(y_test, y_pred)\n",
    "\n",
    "# Plot the ROC curve\n",
    "df_recall_precision = pd.DataFrame({'Precision':precision[:-1],\n",
    "                                    'Recall':recall[:-1],\n",
    "                                    'Threshold':thresholds})\n",
    "df_recall_precision.head()\n",
    "\n",
    "# Creat a data viz\n",
    "plotnine.options.figure_size = (8, 4.8)\n",
    "(\n",
    "    ggplot(data = df_recall_precision)+\n",
    "    geom_point(aes(x = 'Recall',\n",
    "                   y = 'Precision'),\n",
    "               size = 0.4)+\n",
    "    geom_line(aes(x = 'Recall',\n",
    "                  y = 'Precision'))+\n",
    "    labs(title = 'Recall Precision Curve')+\n",
    "    xlab('Recall')+\n",
    "    ylab('Precision')+\n",
    "    theme_minimal()\n",
    ")"
   ]
  },
  {
   "cell_type": "code",
   "execution_count": null,
   "id": "770f92f9",
   "metadata": {},
   "outputs": [],
   "source": [
    "# Plot the threshold tuning\n",
    "df_threshold_tuning = pd.DataFrame({'F-score':fscore,\n",
    "                                    'Threshold':thresholds})\n",
    "df_threshold_tuning.head()\n",
    "\n",
    "plotnine.options.figure_size = (8, 4.8)\n",
    "(\n",
    "    ggplot(data = df_threshold_tuning)+\n",
    "    geom_point(aes(x = 'Threshold',\n",
    "                   y = 'F-score'),\n",
    "               size = 0.4)+\n",
    "    # Best threshold\n",
    "    geom_point(aes(x = thresholdOpt,\n",
    "                   y = fscoreOpt),\n",
    "               color = '#981220',\n",
    "               size = 4)+\n",
    "    geom_line(aes(x = 'Threshold',\n",
    "                   y = 'F-score'))+\n",
    "    # Annotate the text\n",
    "    geom_text(aes(x = thresholdOpt,\n",
    "                  y = fscoreOpt),\n",
    "              label = 'Optimal threshold \\n for class: {}'.format(thresholdOpt),\n",
    "              nudge_x = 0,\n",
    "              nudge_y = -0.10,\n",
    "              size = 10,\n",
    "              fontstyle = 'italic')+\n",
    "    labs(title = 'Threshold Tuning Curve')+\n",
    "    xlab('Threshold')+\n",
    "    ylab('F-score')+\n",
    "    theme_minimal()\n",
    ")"
   ]
  }
 ],
 "metadata": {
  "kernelspec": {
   "display_name": "Python 3 (ipykernel)",
   "language": "python",
   "name": "python3"
  },
  "language_info": {
   "codemirror_mode": {
    "name": "ipython",
    "version": 3
   },
   "file_extension": ".py",
   "mimetype": "text/x-python",
   "name": "python",
   "nbconvert_exporter": "python",
   "pygments_lexer": "ipython3",
   "version": "3.8.12"
  }
 },
 "nbformat": 4,
 "nbformat_minor": 5
}
